{
  "cells": [
    {
      "cell_type": "markdown",
      "metadata": {},
      "source": [
        "## UCSB Thomas–Fermi notebook\n",
        "\n",
        "- Uses `solvers/solverUCSB.py` and `mainUCSB.py`\n",
        "- Edit the parameters below and run the cells to execute a single simulation\n",
        "- Results are saved under `analysis_folder/<today>/<timestamp>_UCSB/case_00`\n"
      ]
    },
    {
      "cell_type": "code",
      "execution_count": 8,
      "metadata": {},
      "outputs": [],
      "source": [
        "from pathlib import Path\n",
        "from datetime import datetime\n",
        "\n",
        "import numpy as np\n",
        "import matplotlib.pyplot as plt\n",
        "\n",
        "# Import reusable pieces\n",
        "from mainUCSB import build_vt_grid, magnetic_length_m\n",
        "from solvers.solverUCSB import SimulationConfig, ThomasFermiSolver\n",
        "\n"
      ]
    },
    {
      "cell_type": "code",
      "execution_count": 2,
      "metadata": {},
      "outputs": [],
      "source": [
        "# Parameters (match defaults in mainUCSB.py)\n",
        "\n",
        "# Grid\n",
        "GRID_N = 64\n",
        "\n",
        "# Magnetic field and domain\n",
        "B_FIELD_T = 13.0  # Tesla\n",
        "L_B_M = magnetic_length_m(B_FIELD_T)\n",
        "HALF_SPAN_M = 20.0 * L_B_M\n",
        "X_MIN_NM = -HALF_SPAN_M * 1e9\n",
        "X_MAX_NM = +HALF_SPAN_M * 1e9\n",
        "Y_MIN_NM = -HALF_SPAN_M * 1e9\n",
        "Y_MAX_NM = +HALF_SPAN_M * 1e9\n",
        "\n",
        "# X-mask\n",
        "BAR_WIDTH_NM = 70.0\n",
        "\n",
        "# Gate voltages\n",
        "V_NS = -0.19\n",
        "V_EW = 0.51\n",
        "V_B = 0.19\n",
        "\n",
        "# hBN thicknesses [nm]\n",
        "D_T = 30.0\n",
        "D_B = 30.0\n",
        "\n",
        "# Optimisation\n",
        "BASINHOPPING_NITER = 1\n",
        "BASINHOPPING_STEP_SIZE = 0.1\n",
        "LBFGS_MAXITER = 1000\n",
        "LBFGS_MAXFUN = 2_000_000\n",
        "\n",
        "# Potential scaling/offset (typically keep as-is)\n",
        "POTENTIAL_SCALE = 1.0\n",
        "POTENTIAL_OFFSET = 0.0\n",
        "\n",
        "# Exchange-correlation scaling\n",
        "XC_SCALE = 1.8\n",
        "\n",
        "# Progressive refinement (Matryoshka)\n",
        "MATRYOSHKA = False\n",
        "MATRYOSHKA_MIN_N = 32\n",
        "COARSE_ACCEPT_LIMIT = 1\n",
        "\n"
      ]
    },
    {
      "cell_type": "code",
      "execution_count": 3,
      "metadata": {},
      "outputs": [
        {
          "data": {
            "image/png": "[encoded data removed]",
            "text/plain": [
              "<Figure size 550x500 with 2 Axes>"
            ]
          },
          "metadata": {},
          "output_type": "display_data"
        }
      ],
      "source": [
        "# Build Vt grid and preview\n",
        "vt_grid = build_vt_grid(\n",
        "    GRID_N,\n",
        "    X_MIN_NM, X_MAX_NM,\n",
        "    Y_MIN_NM, Y_MAX_NM,\n",
        "    BAR_WIDTH_NM,\n",
        "    V_NS, V_EW,\n",
        ")\n",
        "\n",
        "extent_lB = (\n",
        "    X_MIN_NM / (L_B_M * 1e9),\n",
        "    X_MAX_NM / (L_B_M * 1e9),\n",
        "    Y_MIN_NM / (L_B_M * 1e9),\n",
        "    Y_MAX_NM / (L_B_M * 1e9),\n",
        ")\n",
        "plt.figure(figsize=(5.5,5))\n",
        "im = plt.imshow(vt_grid.T, origin=\"lower\", extent=extent_lB, cmap=\"coolwarm\", aspect=\"auto\")\n",
        "plt.colorbar(im, label=\"V_t [V]\")\n",
        "plt.title(f\"V_t grid (V_NS={V_NS:+.2f} V, V_EW={V_EW:+.2f} V)\")\n",
        "plt.xlabel(\"x [l_B]\")\n",
        "plt.ylabel(\"y [l_B]\")\n",
        "plt.tight_layout()\n",
        "plt.show()\n"
      ]
    },
    {
      "cell_type": "code",
      "execution_count": 4,
      "metadata": {},
      "outputs": [
        {
          "name": "stdout",
          "output_type": "stream",
          "text": [
            "Config ready.\n"
          ]
        }
      ],
      "source": [
        "# Configure solver\n",
        "cfg = SimulationConfig(\n",
        "    Nx=GRID_N,\n",
        "    Ny=GRID_N,\n",
        "    B=B_FIELD_T,\n",
        "    V_B=V_B,\n",
        "    dt=D_T*1e-9,\n",
        "    db=D_B*1e-9,\n",
        "    Vt_grid=vt_grid,\n",
        "    x_min_nm=X_MIN_NM,\n",
        "    x_max_nm=X_MAX_NM,\n",
        "    y_min_nm=Y_MIN_NM,\n",
        "    y_max_nm=Y_MAX_NM,\n",
        "    niter=BASINHOPPING_NITER,\n",
        "    step_size=BASINHOPPING_STEP_SIZE,\n",
        "    lbfgs_maxiter=LBFGS_MAXITER,\n",
        "    lbfgs_maxfun=LBFGS_MAXFUN,\n",
        "    potential_scale=POTENTIAL_SCALE,\n",
        "    potential_offset=POTENTIAL_OFFSET,\n",
        "    exc_file=\"data/0-data/Exc_data_new.csv\",\n",
        "    solver_type=\"solverUCSB\",\n",
        "    exc_scale=XC_SCALE,\n",
        "    use_matryoshka=MATRYOSHKA,\n",
        "    matryoshka_min_N=MATRYOSHKA_MIN_N,\n",
        "    coarse_accept_limit=COARSE_ACCEPT_LIMIT,\n",
        ")\n",
        "solver = ThomasFermiSolver(cfg)\n",
        "print(\"Config ready.\")\n"
      ]
    },
    {
      "cell_type": "code",
      "execution_count": 5,
      "metadata": {},
      "outputs": [],
      "source": [
        "import os\n",
        "\n",
        "# Optional multi-case configuration (match mainUCSB)\n",
        "V_NS_EW_PAIRS = [(V_NS, V_EW)]  # Add more pairs as needed\n",
        "PARALLEL = False  # Not recommended inside Jupyter\n",
        "MAX_WORKERS = max(1, (os.cpu_count() or 2) - 1)\n"
      ]
    },
    {
      "cell_type": "code",
      "execution_count": 6,
      "metadata": {},
      "outputs": [
        {
          "name": "stdout",
          "output_type": "stream",
          "text": [
            "basinhopping step 0: f -8276.01\n",
            "basinhopping step 1: f -8276.09 trial_f -8276.09 accepted True lowest_f -8276.09\n",
            "found new global minimum on step 1 with function value -8276.09\n",
            "Saved outputs to: analysis_folder/20250813/20250813_172823_UCSB/case_00\n"
          ]
        }
      ],
      "source": [
        "# Run a single case and save like mainUCSB\n",
        "base_dir = Path(\"analysis_folder\")\n",
        "today = datetime.now().strftime(\"%Y%m%d\")\n",
        "date_dir = base_dir / today\n",
        "date_dir.mkdir(parents=True, exist_ok=True)\n",
        "\n",
        "timestamp = datetime.now().strftime(\"%Y%m%d_%H%M%S\")\n",
        "batch_dir = date_dir / (timestamp + \"_UCSB\")\n",
        "batch_dir.mkdir(parents=True, exist_ok=True)\n",
        "\n",
        "case_dir = batch_dir / \"case_00\"\n",
        "case_dir.mkdir(parents=True, exist_ok=True)\n",
        "\n",
        "# Save parameters pre-run\n",
        "from dataclasses import asdict\n",
        "with (case_dir / \"simulation_parameters.txt\").open(\"w\", encoding=\"utf-8\") as f:\n",
        "    for k, v in asdict(cfg).items():\n",
        "        f.write(f\"{k} = {v}\\n\")\n",
        "\n",
        "# Optimise and plot\n",
        "_ = solver.optimise()\n",
        "solver.plot_results(save_dir=str(case_dir), title_extra=f\"V_NS={V_NS:+.2f} V, V_EW={V_EW:+.2f} V\", show=False)\n",
        "solver.save_results(case_dir)\n",
        "\n",
        "print(f\"Saved outputs to: {case_dir}\")\n"
      ]
    },
    {
      "cell_type": "code",
      "execution_count": 7,
      "metadata": {},
      "outputs": [],
      "source": [
        "# Optional: run multiple cases (sequential in notebook)\n",
        "# Uncomment to use\n",
        "# from concurrent.futures import ProcessPoolExecutor, as_completed\n",
        "# futures = []\n",
        "# for i, (vns, vew) in enumerate(V_NS_EW_PAIRS):\n",
        "#     pot_dir = batch_dir / f\"case_{i:02d}\"\n",
        "#     pot_dir.mkdir(parents=True, exist_ok=True)\n",
        "#     vt_i = build_vt_grid(\n",
        "#         GRID_N,\n",
        "#         X_MIN_NM, X_MAX_NM,\n",
        "#         Y_MIN_NM, Y_MAX_NM,\n",
        "#         BAR_WIDTH_NM,\n",
        "#         vns, vew,\n",
        "#     )\n",
        "#     cfg_i = SimulationConfig(\n",
        "#         Nx=GRID_N, Ny=GRID_N,\n",
        "#         B=B_FIELD_T, V_B=V_B,\n",
        "#         dt=D_T*1e-9, db=D_B*1e-9,\n",
        "#         Vt_grid=vt_i,\n",
        "#         x_min_nm=X_MIN_NM, x_max_nm=X_MAX_NM,\n",
        "#         y_min_nm=Y_MIN_NM, y_max_nm=Y_MAX_NM,\n",
        "#         niter=BASINHOPPING_NITER, step_size=BASINHOPPING_STEP_SIZE,\n",
        "#         lbfgs_maxiter=LBFGS_MAXITER, lbfgs_maxfun=LBFGS_MAXFUN,\n",
        "#         potential_scale=POTENTIAL_SCALE, potential_offset=POTENTIAL_OFFSET,\n",
        "#         exc_file=\"data/0-data/Exc_data_new.csv\",\n",
        "#         solver_type=\"solverUCSB\",\n",
        "#         exc_scale=XC_SCALE,\n",
        "#         use_matryoshka=MATRYOSHKA,\n",
        "#         matryoshka_min_N=MATRYOSHKA_MIN_N,\n",
        "#         coarse_accept_limit=COARSE_ACCEPT_LIMIT,\n",
        "#     )\n",
        "#     solver_i = ThomasFermiSolver(cfg_i)\n",
        "#     _ = solver_i.optimise()\n",
        "#     solver_i.plot_results(save_dir=str(pot_dir), title_extra=f\"V_NS={vns:+.2f} V, V_EW={vew:+.2f} V\", show=False)\n",
        "#     solver_i.save_results(pot_dir)\n",
        "# print(f\"Saved batch outputs to: {batch_dir}\")\n"
      ]
    },
    {
      "cell_type": "code",
      "execution_count": null,
      "metadata": {},
      "outputs": [],
      "source": []
    }
  ],
  "metadata": {
    "kernelspec": {
      "display_name": "base",
      "language": "python",
      "name": "python3"
    },
    "language_info": {
      "codemirror_mode": {
        "name": "ipython",
        "version": 3
      },
      "file_extension": ".py",
      "mimetype": "text/x-python",
      "name": "python",
      "nbconvert_exporter": "python",
      "pygments_lexer": "ipython3",
      "version": "3.11.7"
    }
  },
  "nbformat": 4,
  "nbformat_minor": 2
}
