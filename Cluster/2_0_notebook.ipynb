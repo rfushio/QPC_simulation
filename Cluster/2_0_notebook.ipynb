{
  "cells": [
    {
      "cell_type": "markdown",
      "metadata": {},
      "source": [
        "## Thomas–Fermi main2_0 notebook\n",
        "\n",
        "- Uses `solvers/solver4.py` (external potential from data)\n",
        "- Configure either a list of files or a combined file with `DESIRED_PAIRS`\n",
        "- Supports multiple `XC_SCALES` and saves outputs to `analysis_folder/...`"
      ]
    },
    {
      "cell_type": "code",
      "execution_count": null,
      "metadata": {},
      "outputs": [],
      "source": [
        "from pathlib import Path\n",
        "from datetime import datetime\n",
        "\n",
        "import numpy as np\n",
        "import matplotlib.pyplot as plt\n",
        "\n",
        "from solvers.solver4 import SimulationConfig, ThomasFermiSolver\n",
        "\n"
      ]
    },
    {
      "cell_type": "code",
      "execution_count": null,
      "metadata": {},
      "outputs": [],
      "source": [
        "# Parameters\n",
        "POTENTIAL_MODE = \"files\"  # or \"combined\"\n",
        "POTENTIAL_FILES = [\n",
        "    \"data/0-data/VNS=0.5.txt\",\n",
        "]\n",
        "COMBINED_FILE = \"data/1-data/James2.txt\"\n",
        "DESIRED_PAIRS = []  # e.g., [(-4.0, -1.50), (-3.7, -1.50)]\n",
        "XC_SCALES = [1.8]\n",
        "\n",
        "GRID_N = 64\n",
        "B_FIELD_T = 13.0\n",
        "D_T = 30.0\n",
        "D_B = 30.0\n",
        "POTENTIAL_SCALE = 1.0\n",
        "POTENTIAL_OFFSET = 0.0\n",
        "MATRYOSHKA = False\n",
        "\n"
      ]
    },
    {
      "cell_type": "code",
      "execution_count": null,
      "metadata": {},
      "outputs": [],
      "source": [
        "# Build and run a single case\n",
        "\n",
        "def run_single_file(potential_file: str, xc_scale: float, out_dir: Path):\n",
        "    cfg = SimulationConfig(\n",
        "        Nx=GRID_N, Ny=GRID_N, B=B_FIELD_T,\n",
        "        dt=D_T*1e-9, db=D_B*1e-9,\n",
        "        potential_file=potential_file,\n",
        "        potential_scale=POTENTIAL_SCALE, potential_offset=POTENTIAL_OFFSET,\n",
        "        exc_file=\"data/0-data/Exc_data_new.csv\",\n",
        "        solver_type=\"solver4\",\n",
        "        exc_scale=float(xc_scale),\n",
        "        use_matryoshka=MATRYOSHKA,\n",
        "    )\n",
        "    solver = ThomasFermiSolver(cfg)\n",
        "    solver.optimise()\n",
        "    solver.plot_results(save_dir=str(out_dir), title_extra=f\"file={Path(potential_file).name}, XC={xc_scale:.3f}\", show=False)\n",
        "    solver.save_results(out_dir)\n",
        "\n",
        "base_dir = Path(\"analysis_folder\")\n",
        "today = datetime.now().strftime(\"%Y%m%d\")\n",
        "date_dir = base_dir / today\n",
        "date_dir.mkdir(parents=True, exist_ok=True)\n",
        "\n",
        "timestamp = datetime.now().strftime(\"%Y%m%d_%H%M%S\")\n",
        "batch_dir = date_dir / (timestamp + \"_MAIN2_0_NOTEBOOK\")\n",
        "batch_dir.mkdir(parents=True, exist_ok=True)\n",
        "\n",
        "case0 = batch_dir / \"case_00\"\n",
        "case0.mkdir(parents=True, exist_ok=True)\n",
        "run_single_file(POTENTIAL_FILES[0], XC_SCALES[0], case0)\n",
        "print(f\"Saved to {case0}\")\n"
      ]
    }
  ],
  "metadata": {
    "language_info": {
      "name": "python"
    }
  },
  "nbformat": 4,
  "nbformat_minor": 2
}
